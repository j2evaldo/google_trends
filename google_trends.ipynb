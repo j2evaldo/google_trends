{
 "cells": [
  {
   "cell_type": "code",
   "execution_count": null,
   "metadata": {},
   "outputs": [],
   "source": [
    "# Buscando Tabelas com valores das Buscas\n",
    "from pytrends.request import TrendReq\n",
    "from pandas import pandas as pd\n",
    "from time import sleep\n",
    "\n",
    "pytrends= TrendReq(hl='en-US')\n",
    "\n",
    "# Palavras chaves que estou buscando\n",
    "all_keywords = ['Machine Learning', 'python', 'Investimentos', 'Bolsa de Valores', 'Análise Técnica',\n",
    "    'Day Trade', 'udemy', 'Tape Reading','Quant trading', 'Mini indice', 'Mini Dólar']\n",
    "\n",
    "\n",
    "# Posso passar o parametro com o endereço que ele pega o valor de forma automática\n",
    "timeframes=['today 5-y', 'today 12-m','today 3-m', 'today 1-m', 'now 7-d' ]\n",
    "cat = '0' # Buscando por todas as categorias\n",
    "geo = 'BR' # Buscando por todos os Paises do globo\n",
    "gprop = '' # Buscando em todos os motores do Gloogle\n",
    "\n",
    "dicionario = {}\n",
    "\n",
    "for i in all_keywords:\n",
    "    pytrends.build_payload([i], cat= '0', timeframe= 'today 12-m',geo ='BR', gprop= '')\n",
    "    dados = pytrends.interest_over_time()\n",
    "    \n",
    "    dicionario[i]= dados[i].values\n",
    "    dicionario['Data'] = dados.index\n",
    "    sleep(2)\n",
    "\n",
    "\n",
    "temp = pd.DataFrame(dicionario)\n",
    "temp.set_index('Data', inplace = True)\n",
    "temp"
   ]
  },
  {
   "cell_type": "code",
   "execution_count": null,
   "metadata": {},
   "outputs": [],
   "source": [
    "# Tentando entender a correlação entre os termos\n",
    "correlacao = temp.corr()['Day Trade']\n",
    "frame_correlacao = pd.DataFrame({'Palavras': correlacao.index,\n",
    "                                'Valor': correlacao.values})\n",
    "\n",
    "frame_correlacao.sort_values(by='Valor', ascending= False)\n",
    "\n",
    "\n",
    "import seaborn as sns\n",
    "\n",
    "sns.heatmap(temp.corr(), annot= True, fmt='.2f');"
   ]
  },
  {
   "cell_type": "code",
   "execution_count": null,
   "metadata": {},
   "outputs": [],
   "source": [
    "# Gerando Resumo das pesquisas\n",
    "teste = zip(temp.columns,([temp[item].mean() for item in temp.columns]))\n",
    "[i for i in teste]"
   ]
  },
  {
   "cell_type": "code",
   "execution_count": null,
   "metadata": {},
   "outputs": [],
   "source": [
    "# Verificando Histórico de Busca por periodo\n",
    "from pytrends.request import TrendReq\n",
    "from pandas import pandas as pd\n",
    "from time import sleep\n",
    "\n",
    "pytrends= TrendReq(hl='en-US')\n",
    "teste = ['ibovespa']\n",
    "temp = pytrends.get_historical_interest(teste, year_start=2022, month_start=12, day_start=1, hour_start=0, \n",
    "            year_end=2023, month_end=1, day_end=1, hour_end=0, cat=0, geo='', gprop='', sleep=0)"
   ]
  },
  {
   "cell_type": "code",
   "execution_count": null,
   "metadata": {},
   "outputs": [],
   "source": [
    "# Verificando o interesse destas buscas por região\n",
    "teste = pytrends.interest_by_region(resolution='', inc_low_vol=True, inc_geo_code=False)\n",
    "teste = teste.reset_index()\n",
    "teste.sort_values(by=teste.columns[1], ascending= False)"
   ]
  },
  {
   "cell_type": "code",
   "execution_count": null,
   "metadata": {},
   "outputs": [],
   "source": [
    "# Sujestões de palavras chave\n",
    "sujestoes = pd.DataFrame(pytrends.suggestions('Investimentos'))\n",
    "sujestoes"
   ]
  },
  {
   "cell_type": "code",
   "execution_count": null,
   "metadata": {},
   "outputs": [],
   "source": [
    "# Tópicos Relacionados\n",
    "pytrends.related_topics()"
   ]
  },
  {
   "cell_type": "code",
   "execution_count": null,
   "metadata": {},
   "outputs": [],
   "source": [
    "# Pesquisas Relacionadas\n",
    "pytrends.related_queries()"
   ]
  },
  {
   "cell_type": "code",
   "execution_count": null,
   "metadata": {},
   "outputs": [],
   "source": [
    "# Maiores pesquisas em tempo real\n",
    "pytrends.realtime_trending_searches(pn='BR').head(30) "
   ]
  },
  {
   "cell_type": "code",
   "execution_count": null,
   "metadata": {},
   "outputs": [],
   "source": [
    "# Pesquisas por ano\n",
    "pytrends.top_charts(2019, hl='en-US', tz=300, geo='BR')"
   ]
  },
  {
   "cell_type": "code",
   "execution_count": null,
   "metadata": {},
   "outputs": [],
   "source": [
    "# Maiores pesquisas\n",
    "pytrends.trending_searches(pn='brazil')"
   ]
  }
 ],
 "metadata": {
  "kernelspec": {
   "display_name": "Python 3.10.6 64-bit",
   "language": "python",
   "name": "python3"
  },
  "language_info": {
   "name": "python",
   "version": "3.10.6"
  },
  "orig_nbformat": 4,
  "vscode": {
   "interpreter": {
    "hash": "916dbcbb3f70747c44a77c7bcd40155683ae19c65e1c03b4aa3499c5328201f1"
   }
  }
 },
 "nbformat": 4,
 "nbformat_minor": 2
}
